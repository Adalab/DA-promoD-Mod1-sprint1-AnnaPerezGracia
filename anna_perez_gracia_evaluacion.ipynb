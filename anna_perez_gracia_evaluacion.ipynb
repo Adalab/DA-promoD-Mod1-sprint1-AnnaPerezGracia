{
 "cells": [
  {
   "cell_type": "code",
   "execution_count": 2,
   "metadata": {},
   "outputs": [
    {
     "name": "stdout",
     "output_type": "stream",
     "text": [
      "HOY ESTAMOS EN UNA CLASE DE REPASO, EL OBJETIVO ES INTENTAR SOLUCIONAR TODAS VUESTRAS DUDAS, PREGUNTAD TODO LO QUE QUERÁIS!\n",
      "hoy estamos en una clase de repaso, el objetivo es intentar solucionar todas vuestras dudas, preguntad todo lo que queráis!\n"
     ]
    }
   ],
   "source": [
    "#1\n",
    "\n",
    "# Usando los métodos upper y lower se consigue el resultado deseado en todas las palabras del string\n",
    "\n",
    "string1 = \"Hoy estamos en una clase de repaso, el objetivo es intentar solucionar todas vuestras dudas, preguntad todo lo que queráis!\"\n",
    "\n",
    "string1upper = string1.upper()\n",
    "\n",
    "string1lower = string1.lower()\n",
    "\n",
    "print(string1upper)\n",
    "print(string1lower)\n"
   ]
  },
  {
   "cell_type": "code",
   "execution_count": 6,
   "metadata": {},
   "outputs": [
    {
     "name": "stdout",
     "output_type": "stream",
     "text": [
      "Hoy Estamos En Una Clase De Repaso, El Objetivo Es Intentar Solucionar Todas Vuestras Dudas, Preguntad Todo Lo Que Queráis!\n"
     ]
    }
   ],
   "source": [
    "#2 \n",
    "\n",
    "# El método .title formatea el string en el estilo anglosajón de formato para títulos, es decir, \n",
    "# que cada palabra se escriba en mayúscula\n",
    "\n",
    "stringCap = string1.title()\n",
    "print(stringCap)\n"
   ]
  },
  {
   "cell_type": "code",
   "execution_count": 7,
   "metadata": {},
   "outputs": [
    {
     "name": "stdout",
     "output_type": "stream",
     "text": [
      "['Hoy', 'estamos', 'en', 'una', 'clase', 'de', 'repaso,', 'el', 'objetivo', 'es', 'intentar', 'solucionar', 'todas', 'vuestras', 'dudas,', 'preguntad', 'todo', 'lo', 'que', 'queráis!']\n"
     ]
    }
   ],
   "source": [
    "#3\n",
    "\n",
    "# El método para separar un string es split(), y entrecomillando un espacio en el paréntesis \n",
    "# consigo que los elementos se separen en ese punto del string \n",
    "\n",
    "texto_lista = []\n",
    "\n",
    "texto_lista = string1.split(' ')\n",
    "\n",
    "print(texto_lista)\n"
   ]
  },
  {
   "cell_type": "code",
   "execution_count": 14,
   "metadata": {},
   "outputs": [
    {
     "name": "stdout",
     "output_type": "stream",
     "text": [
      "['Hoy', 'estamos', 'en', 'una', 'clase']\n"
     ]
    }
   ],
   "source": [
    "#4 \n",
    "\n",
    "# Para resolver este ejercicio he escogido un for loop para iterar el append range 5 veces, \n",
    "# evitando así duplicar código\n",
    "\n",
    "texto_lista_corta = []\n",
    "for i in range(5):\n",
    "    texto_lista_corta.append(texto_lista[i])\n",
    "print(texto_lista_corta)    \n",
    "\n",
    "\n"
   ]
  },
  {
   "cell_type": "code",
   "execution_count": 16,
   "metadata": {},
   "outputs": [
    {
     "name": "stdout",
     "output_type": "stream",
     "text": [
      "Hoy estamos en una clase\n"
     ]
    }
   ],
   "source": [
    "#5\n",
    "\n",
    "# Entre las comillas he decidido usar un espacio para una mayor legibilidad del string resultante\n",
    "texto_string = ' '.join(texto_lista_corta)\n",
    "print(texto_string)"
   ]
  },
  {
   "cell_type": "code",
   "execution_count": 1,
   "metadata": {},
   "outputs": [
    {
     "ename": "NameError",
     "evalue": "name 'texto_string' is not defined",
     "output_type": "error",
     "traceback": [
      "\u001b[0;31m---------------------------------------------------------------------------\u001b[0m",
      "\u001b[0;31mNameError\u001b[0m                                 Traceback (most recent call last)",
      "Cell \u001b[0;32mIn[1], line 5\u001b[0m\n\u001b[1;32m      1\u001b[0m \u001b[39m#6 \u001b[39;00m\n\u001b[1;32m      2\u001b[0m \n\u001b[1;32m      3\u001b[0m \u001b[39m# El resultado es -1 ya que no se encuentra el substring 'el'\u001b[39;00m\n\u001b[0;32m----> 5\u001b[0m stringEl \u001b[39m=\u001b[39m texto_string\u001b[39m.\u001b[39mfind(\u001b[39m'\u001b[39m\u001b[39mel\u001b[39m\u001b[39m'\u001b[39m)\n\u001b[1;32m      6\u001b[0m \u001b[39mprint\u001b[39m(stringEl)\n\u001b[1;32m      8\u001b[0m \u001b[39m# Creamos la variable texto_replace y aplicamos el método replace al string \u001b[39;00m\n",
      "\u001b[0;31mNameError\u001b[0m: name 'texto_string' is not defined"
     ]
    }
   ],
   "source": [
    "#6 \n",
    "\n",
    "# El resultado es -1 ya que no se encuentra el substring 'el'\n",
    "\n",
    "stringEl = texto_string.find('el')\n",
    "print(stringEl)\n",
    "\n",
    "# Creamos la variable texto_replace y aplicamos el método replace al string \n",
    "\n",
    "texto_replace = texto_string.replace('Hoy', '')\n",
    "\n",
    "print(texto_replace)\n",
    "\n",
    "# Usando el método old value, new value, count podemos deshacernos del primer caracter\n",
    "\n",
    "texto_sin_espacio = texto_replace.replace(' ', '', 1)\n",
    "print(texto_sin_espacio)\n"
   ]
  },
  {
   "attachments": {},
   "cell_type": "markdown",
   "metadata": {},
   "source": [
    "\n",
    "- Encuentra el número que no está en la lista - \n",
    "\n",
    "He encontrado la solución buscando documentación en https://djangocentral.com/find-missing-number-in-an-array-using-python/"
   ]
  },
  {
   "cell_type": "code",
   "execution_count": 47,
   "metadata": {},
   "outputs": [
    {
     "name": "stdout",
     "output_type": "stream",
     "text": [
      "[6]\n",
      "[2]\n",
      "[37]\n"
     ]
    }
   ],
   "source": [
    "\n",
    "\n",
    "lista1 = [3,7,1,2,8,4,5] # nos tiene que devolver 6\n",
    "lista2 = [4,6,1,3,5] #  nos tiene que devolver 2\n",
    "lista3 = [34,35,36,38,39,40] # nos tiene que devolver 37\n",
    "\n",
    "#lista1\n",
    "\n",
    "#start stop step \n",
    "missing_elements1 = []\n",
    "missing_elements2 = []\n",
    "missing_elements3 = []\n",
    "for ele in range(1,len(lista1)):\n",
    "    if ele not in lista1:\n",
    "        missing_elements1.append(ele)\n",
    "print(missing_elements1)\n",
    "\n",
    "#lista2\n",
    "\n",
    "for ele in range(1,len(lista2)):\n",
    "    if ele not in lista2:\n",
    "        missing_elements2.append(ele)\n",
    "print(missing_elements2)\n",
    "\n",
    "#lista3 \n",
    "\n",
    "for ele in range(1,len(lista3)):\n",
    "    if lista3[0]+ele not in lista3:\n",
    "        missing_elements3.append(lista3[0]+ele )\n",
    "print(missing_elements3)\n"
   ]
  },
  {
   "attachments": {},
   "cell_type": "markdown",
   "metadata": {},
   "source": [
    "Bonus: introduce los resultados obtenidos en un diccionario, indicando qué número falta para cada una de las listas"
   ]
  },
  {
   "cell_type": "code",
   "execution_count": 50,
   "metadata": {},
   "outputs": [
    {
     "name": "stdout",
     "output_type": "stream",
     "text": [
      "[6] [2] [37]\n",
      "{'falta_lista_1': [6], 'falta_lista_2': [2], 'falta_lista_3': [37]}\n"
     ]
    }
   ],
   "source": [
    "\n",
    "\n",
    "print(missing_elements1, missing_elements2, missing_elements3)\n",
    "\n",
    "resultados = { }\n",
    "resultados['falta_lista_1'] = missing_elements1\n",
    "resultados['falta_lista_2'] = missing_elements2\n",
    "resultados['falta_lista_3'] = missing_elements3\n",
    "\n",
    "print(resultados)\n"
   ]
  },
  {
   "attachments": {},
   "cell_type": "markdown",
   "metadata": {},
   "source": [
    "\n",
    "Mover los ceros a la izquierda\n"
   ]
  },
  {
   "cell_type": "code",
   "execution_count": null,
   "metadata": {},
   "outputs": [],
   "source": [
    "\n",
    "A = [1,10,88,0,59,63,0,20,0]\n",
    "\n",
    "zeros = []\n",
    "counter = 0\n",
    "for i in A:\n",
    "    if i == 0:\n",
    "        zeros.append(i)\n",
    "        A.pop(counter)\n",
    "    counter +=1\n",
    "print(A)\n",
    "print(zeros)\n",
    "\n",
    "for x in A:\n",
    "    zeros.append(x)\n",
    "\n",
    "print(zeros)"
   ]
  },
  {
   "attachments": {},
   "cell_type": "markdown",
   "metadata": {},
   "source": [
    "\n",
    "Invertir palabras de una frase: \n",
    "Nos dan una frase en que quieren que las letras de cada palabra acaben teniendo el orden invertido, manteniendo el orden de las palabras."
   ]
  },
  {
   "cell_type": "code",
   "execution_count": 66,
   "metadata": {},
   "outputs": [
    {
     "name": "stdout",
     "output_type": "stream",
     "text": [
      "aloH adA\n"
     ]
    }
   ],
   "source": [
    "frase = 'Hola Ada'\n",
    "\n",
    "\n",
    "fraseInversa = frase[::-1]\n",
    "\n",
    "fraseSplit = fraseInversa.split(' ')\n",
    "\n",
    "print(fraseSplit[1],fraseSplit[0])\n",
    "\n"
   ]
  }
 ],
 "metadata": {
  "kernelspec": {
   "display_name": "Python 3",
   "language": "python",
   "name": "python3"
  },
  "language_info": {
   "codemirror_mode": {
    "name": "ipython",
    "version": 3
   },
   "file_extension": ".py",
   "mimetype": "text/x-python",
   "name": "python",
   "nbconvert_exporter": "python",
   "pygments_lexer": "ipython3",
   "version": "3.9.6"
  },
  "orig_nbformat": 4,
  "vscode": {
   "interpreter": {
    "hash": "31f2aee4e71d21fbe5cf8b01ff0e069b9275f58929596ceb00d14d90e3e16cd6"
   }
  }
 },
 "nbformat": 4,
 "nbformat_minor": 2
}
